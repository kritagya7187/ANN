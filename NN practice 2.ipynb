{
 "cells": [
  {
   "cell_type": "code",
   "execution_count": 1,
   "id": "ee360b95-a1a4-4d63-9ab9-4412bb372ff9",
   "metadata": {},
   "outputs": [],
   "source": [
    "import numpy as np\n",
    "import matplotlib.pyplot as plt\n",
    "import random"
   ]
  },
  {
   "cell_type": "code",
   "execution_count": 5,
   "id": "47d553ee-91ae-4697-8f11-a8d57e7f4dc2",
   "metadata": {},
   "outputs": [],
   "source": [
    "x_train = np.loadtxt('train_x.csv', delimiter =',').T\n",
    "y_train = np.loadtxt('train_label.csv', delimiter =',').T\n",
    "x_test = np.loadtxt('test_x.csv', delimiter =',').T\n",
    "y_test = np.loadtxt('test_label.csv', delimiter =',').T"
   ]
  },
  {
   "cell_type": "code",
   "execution_count": 6,
   "id": "83b3e032-be71-4163-a94f-19fe4ae336ea",
   "metadata": {},
   "outputs": [
    {
     "name": "stdout",
     "output_type": "stream",
     "text": [
      "Shape of x_train : (784, 1000)\n",
      "Shape of Y_train : (10, 1000)\n",
      "Shape of x_test : (784, 1000)\n",
      "Shape of y_test : (10, 350)\n"
     ]
    }
   ],
   "source": [
    "print (\"Shape of x_train :\", x_train.shape)\n",
    "print (\"Shape of Y_train :\", y_train.shape)\n",
    "print (\"Shape of x_test :\", x_train.shape)\n",
    "print (\"Shape of y_test :\", y_test.shape)"
   ]
  },
  {
   "cell_type": "code",
   "execution_count": 17,
   "id": "904a7efa-a0c4-4f98-8097-789c57e07a46",
   "metadata": {},
   "outputs": [
    {
     "data": {
      "text/plain": [
       "<matplotlib.image.AxesImage at 0x21645be8bf0>"
      ]
     },
     "execution_count": 17,
     "metadata": {},
     "output_type": "execute_result"
    },
    {
     "data": {
      "image/png": "[encoded data removed]",
      "text/plain": [
       "<Figure size 640x480 with 1 Axes>"
      ]
     },
     "metadata": {},
     "output_type": "display_data"
    }
   ],
   "source": [
    "index = random.randrange(0, x_train.shape[1])\n",
    "plt.imshow(x_train [:, index].reshape(28,28), cmap = 'gray')"
   ]
  },
  {
   "cell_type": "code",
   "execution_count": 11,
   "id": "031bee26-1d05-47b3-9dff-cbeb3d44f2cb",
   "metadata": {},
   "outputs": [],
   "source": [
    "##Model\n"
   ]
  },
  {
   "cell_type": "code",
   "execution_count": null,
   "id": "b763f9de-4630-4312-ac62-38f61c61b54a",
   "metadata": {},
   "outputs": [],
   "source": []
  }
 ],
 "metadata": {
  "kernelspec": {
   "display_name": "Python 3 (ipykernel)",
   "language": "python",
   "name": "python3"
  },
  "language_info": {
   "codemirror_mode": {
    "name": "ipython",
    "version": 3
   },
   "file_extension": ".py",
   "mimetype": "text/x-python",
   "name": "python",
   "nbconvert_exporter": "python",
   "pygments_lexer": "ipython3",
   "version": "3.12.8"
  }
 },
 "nbformat": 4,
 "nbformat_minor": 5
}
